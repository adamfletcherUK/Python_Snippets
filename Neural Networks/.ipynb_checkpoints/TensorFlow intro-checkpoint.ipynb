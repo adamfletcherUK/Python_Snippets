{
 "cells": [
  {
   "cell_type": "code",
   "execution_count": 1,
   "metadata": {},
   "outputs": [],
   "source": [
    "import tensorflow as tf"
   ]
  },
  {
   "cell_type": "code",
   "execution_count": 27,
   "metadata": {},
   "outputs": [],
   "source": [
    "mnist = tf.keras.datasets.mnist\n",
    "\n",
    "(x_train, y_train), (x_test, y_test) = mnist.load_data()\n",
    "x_train, x_test = x_train / 255.0, x_test / 255.0"
   ]
  },
  {
   "cell_type": "code",
   "execution_count": 28,
   "metadata": {},
   "outputs": [],
   "source": [
    "model = tf.keras.models.Sequential([\n",
    "  tf.keras.layers.Flatten(input_shape=(28, 28)),\n",
    "  tf.keras.layers.Dense(128, activation='relu'),\n",
    "  tf.keras.layers.Dropout(0.2),\n",
    "  tf.keras.layers.Dense(10)\n",
    "])"
   ]
  },
  {
   "cell_type": "code",
   "execution_count": 29,
   "metadata": {},
   "outputs": [
    {
     "data": {
      "text/plain": [
       "array([[ 0.36965802, -0.04116787, -0.06936973,  0.12389778, -0.34596407,\n",
       "         0.01569209, -0.02540688,  0.13184048, -0.09716845,  0.04328298]])"
      ]
     },
     "execution_count": 29,
     "metadata": {},
     "output_type": "execute_result"
    }
   ],
   "source": [
    "predictions = model(x_train[:1]).numpy()\n",
    "predictions"
   ]
  },
  {
   "cell_type": "code",
   "execution_count": 30,
   "metadata": {},
   "outputs": [
    {
     "data": {
      "text/plain": [
       "array([[0.14102049, 0.09351102, 0.09091068, 0.1102935 , 0.06894321,\n",
       "        0.09898213, 0.09499652, 0.11117301, 0.08841828, 0.10175115]])"
      ]
     },
     "execution_count": 30,
     "metadata": {},
     "output_type": "execute_result"
    }
   ],
   "source": [
    "tf.nn.softmax(predictions).numpy()"
   ]
  },
  {
   "cell_type": "code",
   "execution_count": 31,
   "metadata": {},
   "outputs": [],
   "source": [
    "loss_fn = tf.keras.losses.SparseCategoricalCrossentropy(from_logits=True)"
   ]
  },
  {
   "cell_type": "code",
   "execution_count": 32,
   "metadata": {},
   "outputs": [
    {
     "data": {
      "text/plain": [
       "2.3128159046173096"
      ]
     },
     "execution_count": 32,
     "metadata": {},
     "output_type": "execute_result"
    }
   ],
   "source": [
    "loss_fn(y_train[:1], predictions).numpy()"
   ]
  },
  {
   "cell_type": "code",
   "execution_count": 33,
   "metadata": {},
   "outputs": [],
   "source": [
    "model.compile(optimizer='adam',\n",
    "              loss=loss_fn,\n",
    "              metrics=['accuracy'])"
   ]
  },
  {
   "cell_type": "code",
   "execution_count": 34,
   "metadata": {},
   "outputs": [
    {
     "name": "stdout",
     "output_type": "stream",
     "text": [
      "Train on 60000 samples\n",
      "Epoch 1/5\n",
      "60000/60000 [==============================] - 4s 60us/sample - loss: 0.4326 - accuracy: 0.8730\n",
      "Epoch 2/5\n",
      "60000/60000 [==============================] - 3s 55us/sample - loss: 0.2014 - accuracy: 0.9451\n",
      "Epoch 3/5\n",
      "60000/60000 [==============================] - 3s 54us/sample - loss: 0.1582 - accuracy: 0.9564\n",
      "Epoch 4/5\n",
      "60000/60000 [==============================] - 3s 54us/sample - loss: 0.1357 - accuracy: 0.9623\n",
      "Epoch 5/5\n",
      "60000/60000 [==============================] - 3s 55us/sample - loss: 0.1211 - accuracy: 0.9667\n"
     ]
    },
    {
     "data": {
      "text/plain": [
       "<tensorflow.python.keras.callbacks.History at 0x7fcf58f11050>"
      ]
     },
     "execution_count": 34,
     "metadata": {},
     "output_type": "execute_result"
    }
   ],
   "source": [
    "model.fit(x_train, y_train, epochs=5)"
   ]
  },
  {
   "cell_type": "code",
   "execution_count": 35,
   "metadata": {},
   "outputs": [
    {
     "name": "stdout",
     "output_type": "stream",
     "text": [
      "10000/10000 - 0s - loss: 0.0882 - accuracy: 0.9743\n"
     ]
    },
    {
     "data": {
      "text/plain": [
       "[0.08822722133365564, 0.9743]"
      ]
     },
     "execution_count": 35,
     "metadata": {},
     "output_type": "execute_result"
    }
   ],
   "source": [
    "model.evaluate(x_test,  y_test, verbose=2)"
   ]
  },
  {
   "cell_type": "code",
   "execution_count": 36,
   "metadata": {},
   "outputs": [],
   "source": [
    "probability_model = tf.keras.Sequential([\n",
    "  model,\n",
    "  tf.keras.layers.Softmax()\n",
    "])"
   ]
  },
  {
   "cell_type": "code",
   "execution_count": 37,
   "metadata": {},
   "outputs": [
    {
     "data": {
      "text/plain": [
       "<tf.Tensor: shape=(5, 10), dtype=float64, numpy=\n",
       "array([[2.13286065e-11, 2.00203621e-09, 2.94256440e-07, 1.30910303e-08,\n",
       "        3.46045331e-11, 2.03576511e-10, 1.15604754e-14, 9.99999505e-01,\n",
       "        9.64421313e-11, 1.85448378e-07],\n",
       "       [9.97574408e-08, 2.32454426e-04, 9.99068351e-01, 6.91296409e-04,\n",
       "        1.57150481e-07, 1.27086964e-07, 6.72170583e-10, 8.39435751e-07,\n",
       "        6.67425058e-06, 1.13184585e-10],\n",
       "       [6.23265845e-07, 9.99399342e-01, 1.19144040e-05, 1.35566027e-05,\n",
       "        1.50389914e-05, 2.93850137e-06, 7.54050828e-06, 4.14268554e-04,\n",
       "        1.27149230e-04, 7.62811839e-06],\n",
       "       [9.99957881e-01, 1.67730980e-10, 1.41978085e-05, 7.39280477e-08,\n",
       "        1.24230906e-07, 9.48070887e-06, 1.45609644e-05, 5.54962047e-08,\n",
       "        1.45731056e-06, 2.16847850e-06],\n",
       "       [1.06258391e-06, 2.25059213e-06, 1.71526069e-05, 6.96787669e-08,\n",
       "        9.97180846e-01, 4.37718887e-07, 1.67801422e-06, 3.45318202e-05,\n",
       "        9.91809584e-07, 2.76097869e-03]])>"
      ]
     },
     "execution_count": 37,
     "metadata": {},
     "output_type": "execute_result"
    }
   ],
   "source": [
    "probability_model(x_test[:5])"
   ]
  },
  {
   "cell_type": "code",
   "execution_count": null,
   "metadata": {},
   "outputs": [],
   "source": []
  }
 ],
 "metadata": {
  "kernelspec": {
   "display_name": "Python 3",
   "language": "python",
   "name": "python3"
  },
  "language_info": {
   "codemirror_mode": {
    "name": "ipython",
    "version": 3
   },
   "file_extension": ".py",
   "mimetype": "text/x-python",
   "name": "python",
   "nbconvert_exporter": "python",
   "pygments_lexer": "ipython3",
   "version": "3.7.7"
  }
 },
 "nbformat": 4,
 "nbformat_minor": 4
}
